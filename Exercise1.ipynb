{
 "cells": [
  {
   "cell_type": "code",
   "execution_count": 1,
   "id": "56d4031b-cee4-4a53-9fd2-64f6295f64d1",
   "metadata": {},
   "outputs": [],
   "source": [
    "#Use Monte Carlo to compute pi"
   ]
  },
  {
   "cell_type": "code",
   "execution_count": 2,
   "id": "ec16d5e5-adc6-422a-96c1-1e1a48bf4581",
   "metadata": {},
   "outputs": [],
   "source": [
    "# Relevant formulas\n",
    "\n",
    "#- square area: $s = (2 r)^2$\n",
    "#- circle area: $c = \\pi r^2$\n",
    "#- $c/s = (\\pi r^2) / (4 r^2) = \\pi / 4$\n",
    "#- $\\pi = 4 * c/s$"
   ]
  },
  {
   "cell_type": "code",
   "execution_count": 3,
   "id": "e8be4b5e-cd0e-48a4-bde3-85340e2529f9",
   "metadata": {},
   "outputs": [
    {
     "name": "stdout",
     "output_type": "stream",
     "text": [
      "/bin/bash: -c: line 0: syntax error near unexpected token `https://raw.githubusercontent.com/coderefinery/jupyter/main/example/darts.svg'\n",
      "/bin/bash: -c: line 0: `[Darts](https://raw.githubusercontent.com/coderefinery/jupyter/main/example/darts.svg)'\n"
     ]
    }
   ],
   "source": [
    "## Image to visualize the concept\n",
    "\n",
    "![Darts](https://raw.githubusercontent.com/coderefinery/jupyter/main/example/darts.svg)\n"
   ]
  },
  {
   "cell_type": "code",
   "execution_count": 4,
   "id": "43b945b5-1a1e-412a-aa3d-bf0a3f6724f9",
   "metadata": {},
   "outputs": [],
   "source": [
    "# importing modules that we will need\n",
    "\n",
    "import random\n",
    "import matplotlib.pyplot as plt"
   ]
  },
  {
   "cell_type": "code",
   "execution_count": 5,
   "id": "fbf0152a-3af0-42ec-8c73-b979eb884545",
   "metadata": {},
   "outputs": [],
   "source": [
    "# initializing the number of \"throws\"\n",
    "\n",
    "num_points = 10000"
   ]
  },
  {
   "cell_type": "code",
   "execution_count": 6,
   "id": "82ff0500-5e38-4c05-98ec-2e003fb71bf6",
   "metadata": {},
   "outputs": [],
   "source": [
    "# here we \"throw darts\" and count the number of hits\n",
    "\n",
    "points = []\n",
    "hits = 0\n",
    "for _ in range(num_points):\n",
    "    x, y = random.random(), random.random()\n",
    "    if x*x + y*y < 1.0:\n",
    "        hits += 1\n",
    "        points.append((x, y, \"red\"))\n",
    "    else:\n",
    "        points.append((x, y, \"blue\"))"
   ]
  },
  {
   "cell_type": "raw",
   "id": "e220fa73-0cef-4968-8515-401699bc52d1",
   "metadata": {},
   "source": [
    "# unzip points into 3 lists\n",
    "x, y, colors = zip(*points)\n",
    "\n",
    "# define figure dimensions\n",
    "fig, ax = plt.subplots()\n",
    "fig.set_size_inches(6.0, 6.0)\n",
    "\n",
    "# plot results\n",
    "ax.scatter(x, y, c=colors)"
   ]
  },
  {
   "cell_type": "code",
   "execution_count": 8,
   "id": "69637b6c-4bd5-485a-a6ec-c69598742a9a",
   "metadata": {},
   "outputs": [
    {
     "data": {
      "text/plain": [
       "3.136"
      ]
     },
     "execution_count": 8,
     "metadata": {},
     "output_type": "execute_result"
    }
   ],
   "source": [
    "# compute and print the estimate\n",
    "\n",
    "fraction = hits / num_points\n",
    "4 * fraction\n"
   ]
  },
  {
   "cell_type": "code",
   "execution_count": null,
   "id": "b19c971a-7fe8-4fa5-baa1-24fd54a6790c",
   "metadata": {},
   "outputs": [],
   "source": []
  }
 ],
 "metadata": {
  "kernelspec": {
   "display_name": "Python 3 (ipykernel)",
   "language": "python",
   "name": "python3"
  },
  "language_info": {
   "codemirror_mode": {
    "name": "ipython",
    "version": 3
   },
   "file_extension": ".py",
   "mimetype": "text/x-python",
   "name": "python",
   "nbconvert_exporter": "python",
   "pygments_lexer": "ipython3",
   "version": "3.10.2"
  }
 },
 "nbformat": 4,
 "nbformat_minor": 5
}
